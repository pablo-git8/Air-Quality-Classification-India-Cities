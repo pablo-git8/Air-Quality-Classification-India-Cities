{
 "cells": [
  {
   "cell_type": "markdown",
   "metadata": {},
   "source": [
    "# **5 Modeling: Air Quality**\n",
    "\n",
    "At this stage of the project, now that the data has been processed and cleaned, we'll proceed with the machine learning modeling phase. Here, we'll implement, train, and test various multiclass machine learning algorithms. Subsequently, we'll evaluate the performance of each algorithm by computing relevant metrics. This process will aid us in selecting the most suitable model for our specific use case."
   ]
  },
  {
   "cell_type": "markdown",
   "metadata": {},
   "source": [
    "## **Methodology**\n",
    "\n",
    "* [1. Lead the Processed Dataset](#1_load)\n",
    "* [2. Train and Test Split and Validations](#2_tt)\n",
    "* [3. Modeling](#3_mod)\n",
    "    * [3.1 Benchmark Model: Dummy Classifier](#31_dum)\n",
    "    * [3.2 Decision Tree Classifier](#32_dt)\n",
    "    * [3.3 Random Forest Classifier](#33_rf)\n",
    "    * [3.4 XGboost Classifier](#34_xg)\n",
    "* [4. Identify the Best Performer](#4_bp)\n",
    "* [5. Saving the model (.pkl)](#5_sm)"
   ]
  },
  {
   "cell_type": "code",
   "execution_count": 1,
   "metadata": {},
   "outputs": [],
   "source": [
    "# Imports\n",
    "import pandas as pd\n",
    "import numpy as np\n",
    "from sklearn.model_selection import train_test_split, RandomizedSearchCV\n",
    "from sklearn.metrics import accuracy_score, confusion_matrix, classification_report\n",
    "from sklearn.dummy import DummyClassifier\n",
    "from sklearn.tree import DecisionTreeClassifier\n",
    "from sklearn.ensemble import RandomForestClassifier\n",
    "from xgboost import XGBClassifier\n",
    "import seaborn as sns\n",
    "import matplotlib.pyplot as plt\n",
    "import pickle\n",
    "import warnings"
   ]
  },
  {
   "cell_type": "code",
   "execution_count": 2,
   "metadata": {},
   "outputs": [],
   "source": [
    "# Ignore UserWarning\n",
    "warnings.filterwarnings(\"ignore\", category=UserWarning)"
   ]
  },
  {
   "cell_type": "markdown",
   "metadata": {},
   "source": [
    "---"
   ]
  },
  {
   "cell_type": "markdown",
   "metadata": {},
   "source": [
    "### **1. Load the processed dataset**<a id='1_load'></a>"
   ]
  },
  {
   "cell_type": "code",
   "execution_count": 3,
   "metadata": {},
   "outputs": [],
   "source": [
    "# Load the processed dataset\n",
    "file_path = '../data/processed/processed_air_quality_data.csv'\n",
    "df = pd.read_csv(file_path)"
   ]
  },
  {
   "cell_type": "code",
   "execution_count": 4,
   "metadata": {},
   "outputs": [
    {
     "data": {
      "text/html": [
       "<div>\n",
       "<style scoped>\n",
       "    .dataframe tbody tr th:only-of-type {\n",
       "        vertical-align: middle;\n",
       "    }\n",
       "\n",
       "    .dataframe tbody tr th {\n",
       "        vertical-align: top;\n",
       "    }\n",
       "\n",
       "    .dataframe thead th {\n",
       "        text-align: right;\n",
       "    }\n",
       "</style>\n",
       "<table border=\"1\" class=\"dataframe\">\n",
       "  <thead>\n",
       "    <tr style=\"text-align: right;\">\n",
       "      <th></th>\n",
       "      <th>PM2.5</th>\n",
       "      <th>PM10</th>\n",
       "      <th>NO</th>\n",
       "      <th>NO2</th>\n",
       "      <th>NOx</th>\n",
       "      <th>Air_Quality</th>\n",
       "    </tr>\n",
       "  </thead>\n",
       "  <tbody>\n",
       "    <tr>\n",
       "      <th>0</th>\n",
       "      <td>3.391484</td>\n",
       "      <td>2.824351</td>\n",
       "      <td>3.922369</td>\n",
       "      <td>4.106932</td>\n",
       "      <td>0.019803</td>\n",
       "      <td>2</td>\n",
       "    </tr>\n",
       "    <tr>\n",
       "      <th>1</th>\n",
       "      <td>3.390473</td>\n",
       "      <td>2.824351</td>\n",
       "      <td>3.901771</td>\n",
       "      <td>4.585682</td>\n",
       "      <td>0.039221</td>\n",
       "      <td>5</td>\n",
       "    </tr>\n",
       "    <tr>\n",
       "      <th>2</th>\n",
       "      <td>3.516310</td>\n",
       "      <td>2.824351</td>\n",
       "      <td>4.225227</td>\n",
       "      <td>4.721441</td>\n",
       "      <td>0.215111</td>\n",
       "      <td>4</td>\n",
       "    </tr>\n",
       "    <tr>\n",
       "      <th>3</th>\n",
       "      <td>3.763059</td>\n",
       "      <td>2.824351</td>\n",
       "      <td>4.333755</td>\n",
       "      <td>4.641502</td>\n",
       "      <td>0.336472</td>\n",
       "      <td>4</td>\n",
       "    </tr>\n",
       "    <tr>\n",
       "      <th>4</th>\n",
       "      <td>3.592093</td>\n",
       "      <td>2.824351</td>\n",
       "      <td>4.026066</td>\n",
       "      <td>4.685644</td>\n",
       "      <td>0.378436</td>\n",
       "      <td>4</td>\n",
       "    </tr>\n",
       "  </tbody>\n",
       "</table>\n",
       "</div>"
      ],
      "text/plain": [
       "      PM2.5      PM10        NO       NO2       NOx  Air_Quality\n",
       "0  3.391484  2.824351  3.922369  4.106932  0.019803            2\n",
       "1  3.390473  2.824351  3.901771  4.585682  0.039221            5\n",
       "2  3.516310  2.824351  4.225227  4.721441  0.215111            4\n",
       "3  3.763059  2.824351  4.333755  4.641502  0.336472            4\n",
       "4  3.592093  2.824351  4.026066  4.685644  0.378436            4"
      ]
     },
     "execution_count": 4,
     "metadata": {},
     "output_type": "execute_result"
    }
   ],
   "source": [
    "# Dataset snapshot\n",
    "df.head()"
   ]
  },
  {
   "cell_type": "code",
   "execution_count": 5,
   "metadata": {},
   "outputs": [
    {
     "name": "stdout",
     "output_type": "stream",
     "text": [
      "<class 'pandas.core.frame.DataFrame'>\n",
      "RangeIndex: 52974 entries, 0 to 52973\n",
      "Data columns (total 6 columns):\n",
      " #   Column       Non-Null Count  Dtype  \n",
      "---  ------       --------------  -----  \n",
      " 0   PM2.5        52974 non-null  float64\n",
      " 1   PM10         52974 non-null  float64\n",
      " 2   NO           52974 non-null  float64\n",
      " 3   NO2          52974 non-null  float64\n",
      " 4   NOx          52974 non-null  float64\n",
      " 5   Air_Quality  52974 non-null  int64  \n",
      "dtypes: float64(5), int64(1)\n",
      "memory usage: 2.4 MB\n"
     ]
    }
   ],
   "source": [
    "# Dataset validation\n",
    "df.info()"
   ]
  },
  {
   "cell_type": "markdown",
   "metadata": {},
   "source": [
    "---"
   ]
  },
  {
   "cell_type": "markdown",
   "metadata": {},
   "source": [
    "### **2. Train and test split and validations**<a id='2_tt'></a>\n",
    "\n",
    "In this section, we will divide our data in train and test splits so we can train and validate our machine learning models' performances and run the last validations before inputting the data in our models"
   ]
  },
  {
   "cell_type": "code",
   "execution_count": 6,
   "metadata": {},
   "outputs": [
    {
     "name": "stdout",
     "output_type": "stream",
     "text": [
      "Number of duplicates: 143\n"
     ]
    }
   ],
   "source": [
    "# Ensure there are no duplicates\n",
    "print(\"Number of duplicates:\", df.duplicated().sum())\n",
    "df = df.drop_duplicates()"
   ]
  },
  {
   "cell_type": "code",
   "execution_count": 7,
   "metadata": {},
   "outputs": [],
   "source": [
    "# Define features and target\n",
    "X = df.drop(columns=['Air_Quality'])\n",
    "y = df['Air_Quality']\n",
    "\n",
    "# Split the data into training and testing sets\n",
    "X_train, X_test, y_train, y_test = train_test_split(X, y, test_size=0.3, random_state=42, stratify=y)"
   ]
  },
  {
   "cell_type": "markdown",
   "metadata": {},
   "source": [
    "---"
   ]
  },
  {
   "cell_type": "markdown",
   "metadata": {},
   "source": [
    "### **3. Modeling**<a id='3_mod'></a>\n",
    "\n",
    "In this section, we will try different machine learning models to build our multiclass classifier and select the best performer. Initially, we'll start with a Dummy Classifier as a baseline to provide a benchmark for comparison. Following this, we train a Decision Tree classifier, a Random Forest classifier, and an XGBoost classifier, each increasing in complexity. \n",
    "\n",
    "For each model, we'll perform hyperparameter tuning using `RandomizedSearchCV` to find the best configuration. We evaluate each model using accuracy, confusion matrix, and classification report to understand their performance. Finally, we identify the best performing model based on accuracy and save it to a pickle file for future use. Additionally, we visualize the confusion matrices for the top models to inspect their performance further."
   ]
  },
  {
   "cell_type": "markdown",
   "metadata": {},
   "source": [
    "#### **3.1 Dummy Classifier**<a id='31_dum'></a>\n",
    "\n",
    "This is our benchmark model"
   ]
  },
  {
   "cell_type": "code",
   "execution_count": 8,
   "metadata": {},
   "outputs": [
    {
     "name": "stdout",
     "output_type": "stream",
     "text": [
      "Dummy Classifier:\n",
      "Accuracy: 0.16712933753943218\n",
      "\n",
      "Confusion Matrix:\n",
      "[[   0    0    0    0 2632    0]\n",
      " [   0    0    0    0 2636    0]\n",
      " [   0    0    0    0 2645    0]\n",
      " [   0    0    0    0 2639    0]\n",
      " [   0    0    0    0 2649    0]\n",
      " [   0    0    0    0 2649    0]]\n",
      "\n",
      "Classification Report:\n",
      "              precision    recall  f1-score   support\n",
      "\n",
      "           0       0.00      0.00      0.00      2632\n",
      "           1       0.00      0.00      0.00      2636\n",
      "           2       0.00      0.00      0.00      2645\n",
      "           3       0.00      0.00      0.00      2639\n",
      "           4       0.17      1.00      0.29      2649\n",
      "           5       0.00      0.00      0.00      2649\n",
      "\n",
      "    accuracy                           0.17     15850\n",
      "   macro avg       0.03      0.17      0.05     15850\n",
      "weighted avg       0.03      0.17      0.05     15850\n",
      "\n"
     ]
    }
   ],
   "source": [
    "# 3.1 Dummy Classifier (Benchmark)\n",
    "dummy_clf = DummyClassifier(strategy='most_frequent')\n",
    "dummy_clf.fit(X_train, y_train)\n",
    "y_pred_dummy = dummy_clf.predict(X_test)\n",
    "print(\"Dummy Classifier:\")\n",
    "print(f\"Accuracy: {accuracy_score(y_test, y_pred_dummy)}\\n\")\n",
    "print(f\"Confusion Matrix:\\n{confusion_matrix(y_test, y_pred_dummy)}\\n\")\n",
    "print(f\"Classification Report:\\n{classification_report(y_test, y_pred_dummy, zero_division=0)}\")"
   ]
  },
  {
   "cell_type": "markdown",
   "metadata": {},
   "source": [
    "#### **3.2 Decision Tree Classifier**<a id='32_dt'></a>"
   ]
  },
  {
   "cell_type": "code",
   "execution_count": 9,
   "metadata": {},
   "outputs": [
    {
     "name": "stdout",
     "output_type": "stream",
     "text": [
      "\n",
      "Decision Tree Classifier:\n",
      "Accuracy: 0.7038485804416403\n",
      "\n",
      "Confusion Matrix:\n",
      "[[2316   65   37  200    6    8]\n",
      " [  93 1247  436  593   77  190]\n",
      " [  35  361 1823  142   64  220]\n",
      " [ 289  553  180 1487   42   88]\n",
      " [   6   66   82   25 2308  162]\n",
      " [  14  129  237   70  224 1975]]\n",
      "\n",
      "Classification Report:\n",
      "              precision    recall  f1-score   support\n",
      "\n",
      "           0       0.84      0.88      0.86      2632\n",
      "           1       0.52      0.47      0.49      2636\n",
      "           2       0.65      0.69      0.67      2645\n",
      "           3       0.59      0.56      0.58      2639\n",
      "           4       0.85      0.87      0.86      2649\n",
      "           5       0.75      0.75      0.75      2649\n",
      "\n",
      "    accuracy                           0.70     15850\n",
      "   macro avg       0.70      0.70      0.70     15850\n",
      "weighted avg       0.70      0.70      0.70     15850\n",
      "\n"
     ]
    }
   ],
   "source": [
    "# 3.2 Decision Tree Classifier\n",
    "dt_clf = DecisionTreeClassifier(random_state=42)\n",
    "dt_clf.fit(X_train, y_train)\n",
    "y_pred_dt = dt_clf.predict(X_test)\n",
    "\n",
    "print(\"\\nDecision Tree Classifier:\")\n",
    "print(f\"Accuracy: {accuracy_score(y_test, y_pred_dt)}\\n\")\n",
    "print(f\"Confusion Matrix:\\n{confusion_matrix(y_test, y_pred_dt)}\\n\")\n",
    "print(f\"Classification Report:\\n{classification_report(y_test, y_pred_dt, zero_division=0)}\")"
   ]
  },
  {
   "cell_type": "code",
   "execution_count": 10,
   "metadata": {},
   "outputs": [
    {
     "name": "stdout",
     "output_type": "stream",
     "text": [
      "\n",
      "Best Decision Tree Classifier:\n",
      "Accuracy: 0.6863722397476341\n",
      "\n",
      "Confusion Matrix:\n",
      "[[2371   85   20  147    1    8]\n",
      " [ 120 1409  400  498   63  146]\n",
      " [  58  485 1746  104   64  188]\n",
      " [ 363  672  185 1325   31   63]\n",
      " [   8  102   98   36 2250  155]\n",
      " [  20  214  295   67  275 1778]]\n",
      "\n",
      "Classification Report:\n",
      "              precision    recall  f1-score   support\n",
      "\n",
      "           0       0.81      0.90      0.85      2632\n",
      "           1       0.47      0.53      0.50      2636\n",
      "           2       0.64      0.66      0.65      2645\n",
      "           3       0.61      0.50      0.55      2639\n",
      "           4       0.84      0.85      0.84      2649\n",
      "           5       0.76      0.67      0.71      2649\n",
      "\n",
      "    accuracy                           0.69     15850\n",
      "   macro avg       0.69      0.69      0.68     15850\n",
      "weighted avg       0.69      0.69      0.68     15850\n",
      "\n"
     ]
    }
   ],
   "source": [
    "# Hyperparameter tuning for Decision Tree using RandomizedSearchCV\n",
    "param_dist_dt = {'max_depth': [3, 5, 10, None], \n",
    "                 'min_samples_split': [2, 5, 10], \n",
    "                 'min_samples_leaf': [1, 2, 4]}\n",
    "\n",
    "# Hyperparameter tunning\n",
    "random_search_dt = RandomizedSearchCV(dt_clf, param_distributions=param_dist_dt, n_iter=10, cv=5, random_state=42, n_jobs=-1)\n",
    "random_search_dt.fit(X_train, y_train)\n",
    "best_dt_clf = random_search_dt.best_estimator_\n",
    "y_pred_best_dt = best_dt_clf.predict(X_test)\n",
    "\n",
    "print(\"\\nBest Decision Tree Classifier:\")\n",
    "print(f\"Accuracy: {accuracy_score(y_test, y_pred_best_dt)}\\n\")\n",
    "print(f\"Confusion Matrix:\\n{confusion_matrix(y_test, y_pred_best_dt)}\\n\")\n",
    "print(f\"Classification Report:\\n{classification_report(y_test, y_pred_best_dt, zero_division=0)}\")"
   ]
  },
  {
   "cell_type": "markdown",
   "metadata": {},
   "source": [
    "#### **3.3 Random Forest Classifier**<a id='33_rf'></a>"
   ]
  },
  {
   "cell_type": "code",
   "execution_count": 11,
   "metadata": {},
   "outputs": [
    {
     "name": "stdout",
     "output_type": "stream",
     "text": [
      "\n",
      "Random Forest Classifier:\n",
      "Accuracy: 0.7974763406940063\n",
      "\n",
      "Confusion Matrix:\n",
      "[[2518   14    8   91    0    1]\n",
      " [  73 1481  322  563   61  136]\n",
      " [  11  228 2109   95   48  154]\n",
      " [ 266  434   77 1781   27   54]\n",
      " [   5   25   37   12 2483   87]\n",
      " [   9   77  143   33  119 2268]]\n",
      "\n",
      "Classification Report:\n",
      "              precision    recall  f1-score   support\n",
      "\n",
      "           0       0.87      0.96      0.91      2632\n",
      "           1       0.66      0.56      0.61      2636\n",
      "           2       0.78      0.80      0.79      2645\n",
      "           3       0.69      0.67      0.68      2639\n",
      "           4       0.91      0.94      0.92      2649\n",
      "           5       0.84      0.86      0.85      2649\n",
      "\n",
      "    accuracy                           0.80     15850\n",
      "   macro avg       0.79      0.80      0.79     15850\n",
      "weighted avg       0.79      0.80      0.79     15850\n",
      "\n"
     ]
    }
   ],
   "source": [
    "# 3.3 Random Forest Classifier\n",
    "rf_clf = RandomForestClassifier(random_state=42)\n",
    "rf_clf.fit(X_train, y_train)\n",
    "y_pred_rf = rf_clf.predict(X_test)\n",
    "print(\"\\nRandom Forest Classifier:\")\n",
    "print(f\"Accuracy: {accuracy_score(y_test, y_pred_rf)}\\n\")\n",
    "print(f\"Confusion Matrix:\\n{confusion_matrix(y_test, y_pred_rf)}\\n\")\n",
    "print(f\"Classification Report:\\n{classification_report(y_test, y_pred_rf, zero_division=0)}\")"
   ]
  },
  {
   "cell_type": "code",
   "execution_count": 12,
   "metadata": {},
   "outputs": [
    {
     "name": "stderr",
     "output_type": "stream",
     "text": [
      "c:\\Users\\pablo\\.conda\\envs\\python-dsf\\Lib\\site-packages\\sklearn\\model_selection\\_validation.py:547: FitFailedWarning: \n",
      "15 fits failed out of a total of 50.\n",
      "The score on these train-test partitions for these parameters will be set to nan.\n",
      "If these failures are not expected, you can try to debug them by setting error_score='raise'.\n",
      "\n",
      "Below are more details about the failures:\n",
      "--------------------------------------------------------------------------------\n",
      "4 fits failed with the following error:\n",
      "Traceback (most recent call last):\n",
      "  File \"c:\\Users\\pablo\\.conda\\envs\\python-dsf\\Lib\\site-packages\\sklearn\\model_selection\\_validation.py\", line 895, in _fit_and_score\n",
      "    estimator.fit(X_train, y_train, **fit_params)\n",
      "  File \"c:\\Users\\pablo\\.conda\\envs\\python-dsf\\Lib\\site-packages\\sklearn\\base.py\", line 1467, in wrapper\n",
      "    estimator._validate_params()\n",
      "  File \"c:\\Users\\pablo\\.conda\\envs\\python-dsf\\Lib\\site-packages\\sklearn\\base.py\", line 666, in _validate_params\n",
      "    validate_parameter_constraints(\n",
      "  File \"c:\\Users\\pablo\\.conda\\envs\\python-dsf\\Lib\\site-packages\\sklearn\\utils\\_param_validation.py\", line 95, in validate_parameter_constraints\n",
      "    raise InvalidParameterError(\n",
      "sklearn.utils._param_validation.InvalidParameterError: The 'max_features' parameter of RandomForestClassifier must be an int in the range [1, inf), a float in the range (0.0, 1.0], a str among {'sqrt', 'log2'} or None. Got 'auto' instead.\n",
      "\n",
      "--------------------------------------------------------------------------------\n",
      "11 fits failed with the following error:\n",
      "Traceback (most recent call last):\n",
      "  File \"c:\\Users\\pablo\\.conda\\envs\\python-dsf\\Lib\\site-packages\\sklearn\\model_selection\\_validation.py\", line 895, in _fit_and_score\n",
      "    estimator.fit(X_train, y_train, **fit_params)\n",
      "  File \"c:\\Users\\pablo\\.conda\\envs\\python-dsf\\Lib\\site-packages\\sklearn\\base.py\", line 1467, in wrapper\n",
      "    estimator._validate_params()\n",
      "  File \"c:\\Users\\pablo\\.conda\\envs\\python-dsf\\Lib\\site-packages\\sklearn\\base.py\", line 666, in _validate_params\n",
      "    validate_parameter_constraints(\n",
      "  File \"c:\\Users\\pablo\\.conda\\envs\\python-dsf\\Lib\\site-packages\\sklearn\\utils\\_param_validation.py\", line 95, in validate_parameter_constraints\n",
      "    raise InvalidParameterError(\n",
      "sklearn.utils._param_validation.InvalidParameterError: The 'max_features' parameter of RandomForestClassifier must be an int in the range [1, inf), a float in the range (0.0, 1.0], a str among {'log2', 'sqrt'} or None. Got 'auto' instead.\n",
      "\n",
      "  warnings.warn(some_fits_failed_message, FitFailedWarning)\n"
     ]
    },
    {
     "name": "stdout",
     "output_type": "stream",
     "text": [
      "\n",
      "Best Random Forest Classifier:\n",
      "Accuracy: 0.7941324921135646\n",
      "\n",
      "Confusion Matrix:\n",
      "[[2513   11    7   98    0    3]\n",
      " [  78 1440  334  581   63  140]\n",
      " [  14  224 2093   99   45  170]\n",
      " [ 275  417   78 1790   27   52]\n",
      " [   6   22   38   14 2485   84]\n",
      " [   7   77  148   34  117 2266]]\n",
      "\n",
      "Classification Report:\n",
      "              precision    recall  f1-score   support\n",
      "\n",
      "           0       0.87      0.95      0.91      2632\n",
      "           1       0.66      0.55      0.60      2636\n",
      "           2       0.78      0.79      0.78      2645\n",
      "           3       0.68      0.68      0.68      2639\n",
      "           4       0.91      0.94      0.92      2649\n",
      "           5       0.83      0.86      0.84      2649\n",
      "\n",
      "    accuracy                           0.79     15850\n",
      "   macro avg       0.79      0.79      0.79     15850\n",
      "weighted avg       0.79      0.79      0.79     15850\n",
      "\n"
     ]
    }
   ],
   "source": [
    "# Hyperparameter tuning for Random Forest using RandomizedSearchCV\n",
    "param_dist_rf = {'n_estimators': [100, 200, 500], \n",
    "                 'max_features': ['auto', 'sqrt', 'log2'], \n",
    "                 'max_depth': [10, 20, 30, None], \n",
    "                 'min_samples_split': [2, 5, 10], \n",
    "                 'min_samples_leaf': [1, 2, 4]}\n",
    "\n",
    "# Hyperparameter tunning\n",
    "random_search_rf = RandomizedSearchCV(rf_clf, param_distributions=param_dist_rf, n_iter=10, cv=5, random_state=42, n_jobs=-1)\n",
    "random_search_rf.fit(X_train, y_train)\n",
    "best_rf_clf = random_search_rf.best_estimator_\n",
    "y_pred_best_rf = best_rf_clf.predict(X_test)\n",
    "\n",
    "print(\"\\nBest Random Forest Classifier:\")\n",
    "print(f\"Accuracy: {accuracy_score(y_test, y_pred_best_rf)}\\n\")\n",
    "print(f\"Confusion Matrix:\\n{confusion_matrix(y_test, y_pred_best_rf)}\\n\")\n",
    "print(f\"Classification Report:\\n{classification_report(y_test, y_pred_best_rf, zero_division=0)}\")"
   ]
  },
  {
   "cell_type": "markdown",
   "metadata": {},
   "source": [
    "#### **3.4 XGboost Classifier**<a id='34_xg'></a>"
   ]
  },
  {
   "cell_type": "code",
   "execution_count": 13,
   "metadata": {},
   "outputs": [
    {
     "name": "stdout",
     "output_type": "stream",
     "text": [
      "\n",
      "XGBoost Classifier:\n",
      "Accuracy: 0.7007570977917981\n",
      "\n",
      "Confusion Matrix:\n",
      "[[2413   34   12  170    0    3]\n",
      " [ 123 1274  411  563   85  180]\n",
      " [  37  351 1644  161   91  361]\n",
      " [ 399  384  134 1614   36   72]\n",
      " [   6   49   81   27 2261  225]\n",
      " [  19  104  305   53  267 1901]]\n",
      "\n",
      "Classification Report:\n",
      "              precision    recall  f1-score   support\n",
      "\n",
      "           0       0.81      0.92      0.86      2632\n",
      "           1       0.58      0.48      0.53      2636\n",
      "           2       0.64      0.62      0.63      2645\n",
      "           3       0.62      0.61      0.62      2639\n",
      "           4       0.83      0.85      0.84      2649\n",
      "           5       0.69      0.72      0.71      2649\n",
      "\n",
      "    accuracy                           0.70     15850\n",
      "   macro avg       0.69      0.70      0.70     15850\n",
      "weighted avg       0.69      0.70      0.70     15850\n",
      "\n"
     ]
    }
   ],
   "source": [
    "# 4. XGBoost Classifier\n",
    "xgb_clf = XGBClassifier(random_state=42)\n",
    "xgb_clf.fit(X_train, y_train)\n",
    "y_pred_xgb = xgb_clf.predict(X_test)\n",
    "\n",
    "print(\"\\nXGBoost Classifier:\")\n",
    "print(f\"Accuracy: {accuracy_score(y_test, y_pred_xgb)}\\n\")\n",
    "print(f\"Confusion Matrix:\\n{confusion_matrix(y_test, y_pred_xgb)}\\n\")\n",
    "print(f\"Classification Report:\\n{classification_report(y_test, y_pred_xgb, zero_division=0)}\")"
   ]
  },
  {
   "cell_type": "code",
   "execution_count": 14,
   "metadata": {},
   "outputs": [
    {
     "name": "stdout",
     "output_type": "stream",
     "text": [
      "\n",
      "Best XGBoost Classifier:\n",
      "Accuracy: 0.7272555205047319\n",
      "\n",
      "Confusion Matrix:\n",
      "[[2454   27    9  137    2    3]\n",
      " [  84 1313  385  611   76  167]\n",
      " [  19  368 1752  153   62  291]\n",
      " [ 308  432  117 1687   26   69]\n",
      " [   7   39   67   33 2330  173]\n",
      " [  10  117  257   50  224 1991]]\n",
      "\n",
      "Classification Report:\n",
      "              precision    recall  f1-score   support\n",
      "\n",
      "           0       0.85      0.93      0.89      2632\n",
      "           1       0.57      0.50      0.53      2636\n",
      "           2       0.68      0.66      0.67      2645\n",
      "           3       0.63      0.64      0.64      2639\n",
      "           4       0.86      0.88      0.87      2649\n",
      "           5       0.74      0.75      0.75      2649\n",
      "\n",
      "    accuracy                           0.73     15850\n",
      "   macro avg       0.72      0.73      0.72     15850\n",
      "weighted avg       0.72      0.73      0.72     15850\n",
      "\n"
     ]
    }
   ],
   "source": [
    "# Hyperparameter tuning for XGBoost using RandomizedSearchCV\n",
    "param_dist_xgb = {'n_estimators': [100, 200, 500], \n",
    "                  'learning_rate': [0.01, 0.1, 0.2], \n",
    "                  'max_depth': [3, 5, 7], \n",
    "                  'subsample': [0.7, 0.8, 0.9]}\n",
    "\n",
    "# Hyperparameter tunning\n",
    "random_search_xgb = RandomizedSearchCV(xgb_clf, param_distributions=param_dist_xgb, n_iter=10, cv=5, random_state=42, n_jobs=-1)\n",
    "random_search_xgb.fit(X_train, y_train)\n",
    "best_xgb_clf = random_search_xgb.best_estimator_\n",
    "y_pred_best_xgb = best_xgb_clf.predict(X_test)\n",
    "\n",
    "print(\"\\nBest XGBoost Classifier:\")\n",
    "print(f\"Accuracy: {accuracy_score(y_test, y_pred_best_xgb)}\\n\")\n",
    "print(f\"Confusion Matrix:\\n{confusion_matrix(y_test, y_pred_best_xgb)}\\n\")\n",
    "print(f\"Classification Report:\\n{classification_report(y_test, y_pred_best_xgb, zero_division=0)}\")"
   ]
  },
  {
   "cell_type": "markdown",
   "metadata": {},
   "source": [
    "---"
   ]
  },
  {
   "cell_type": "markdown",
   "metadata": {},
   "source": [
    "### **4. Identify the best performer**<a id='4_bp'></a>"
   ]
  },
  {
   "cell_type": "code",
   "execution_count": 15,
   "metadata": {},
   "outputs": [
    {
     "name": "stdout",
     "output_type": "stream",
     "text": [
      "\n",
      "Best Model: RandomForestClassifier with accuracy: 0.7941324921135646\n"
     ]
    }
   ],
   "source": [
    "# Identify the best performing model\n",
    "best_model = None\n",
    "best_accuracy = 0\n",
    "\n",
    "models = {'Best Decision Tree': best_dt_clf, \n",
    "          'Best Random Forest': best_rf_clf, \n",
    "          'Best XGBoost': best_xgb_clf}\n",
    "\n",
    "for name, model in models.items():\n",
    "    y_pred = model.predict(X_test)\n",
    "    accuracy = accuracy_score(y_test, y_pred)\n",
    "    if accuracy > best_accuracy:\n",
    "        best_accuracy = accuracy\n",
    "        best_model = model\n",
    "\n",
    "print(f\"\\nBest Model: {type(best_model).__name__} with accuracy: {best_accuracy}\")"
   ]
  },
  {
   "cell_type": "code",
   "execution_count": 16,
   "metadata": {},
   "outputs": [
    {
     "data": {
      "image/png": "[encoded data removed]",
      "text/plain": [
       "<Figure size 1500x1200 with 7 Axes>"
      ]
     },
     "metadata": {},
     "output_type": "display_data"
    }
   ],
   "source": [
    "# Plot confusion matrices for the best models\n",
    "fig, axes = plt.subplots(2, 2, figsize=(15, 12))\n",
    "axes = axes.flatten()\n",
    "model_names = ['Best Decision Tree', 'Best Random Forest', 'Best XGBoost']\n",
    "predictions = [y_pred_best_dt, y_pred_best_rf, y_pred_best_xgb]\n",
    "\n",
    "for ax, model, name, y_pred in zip(axes, models.values(), model_names, predictions):\n",
    "    cm = confusion_matrix(y_test, y_pred)\n",
    "    sns.heatmap(cm, annot=True, fmt='d', cmap='Blues', ax=ax)\n",
    "    ax.set_title(f'{name} Confusion Matrix')\n",
    "    ax.set_xlabel('Predicted')\n",
    "    ax.set_ylabel('Actual')\n",
    "\n",
    "plt.tight_layout()\n",
    "plt.show()"
   ]
  },
  {
   "cell_type": "markdown",
   "metadata": {},
   "source": [
    "---"
   ]
  },
  {
   "cell_type": "markdown",
   "metadata": {},
   "source": [
    "### **5. Saving the model**<a id='5_sm'></a>\n",
    "\n",
    "In this last section, we will save the best performer model into a pickle file for later usage."
   ]
  },
  {
   "cell_type": "code",
   "execution_count": 17,
   "metadata": {},
   "outputs": [
    {
     "name": "stdout",
     "output_type": "stream",
     "text": [
      "Best model saved to ../models/best_class_model.pkl\n"
     ]
    }
   ],
   "source": [
    "# Save the best performing model to a pickle file\n",
    "pickle_file_path = '../models/best_class_model.pkl'\n",
    "with open(pickle_file_path, 'wb') as file:\n",
    "    pickle.dump(best_model, file)\n",
    "print(f\"Best model saved to {pickle_file_path}\")"
   ]
  }
 ],
 "metadata": {
  "kernelspec": {
   "display_name": "python-dsf",
   "language": "python",
   "name": "python3"
  },
  "language_info": {
   "codemirror_mode": {
    "name": "ipython",
    "version": 3
   },
   "file_extension": ".py",
   "mimetype": "text/x-python",
   "name": "python",
   "nbconvert_exporter": "python",
   "pygments_lexer": "ipython3",
   "version": "3.11.4"
  }
 },
 "nbformat": 4,
 "nbformat_minor": 2
}
