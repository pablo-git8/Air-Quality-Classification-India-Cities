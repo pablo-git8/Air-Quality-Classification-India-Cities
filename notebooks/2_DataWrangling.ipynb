{
 "cells": [
  {
   "cell_type": "markdown",
   "metadata": {},
   "source": [
    "# **2 Data Wrangling: Air Quality**\n",
    "\n",
    "In this stage of the project, we will focus on ingesting the data, performing initial exploration, handling missing values, describing basic statistics, and preparing a clean dataset for the subsequent exploratory data analysis (EDA) stage. Here are the detailed steps and the corresponding Python code:"
   ]
  },
  {
   "cell_type": "markdown",
   "metadata": {},
   "source": [
    "## **Methodology**\n",
    "\n",
    "* [1. Data Ingestion](#1_di): Load the dataset from a CSV file into a Pandas DataFrame.\n",
    "* [2. Initial Exploration](#2_ie): Perform a preliminary examination of the dataset to understand its structure and contents.\n",
    "* [3. Handling Duplicated Records](#3_hdr): Drop duplicated records found in the dataset (if any).\n",
    "* [4. Handling Missing Values](#4_hmv): Identify and handle missing values appropriately.\n",
    "* [5. Exploring Unique Values in Categorical Features](#5_euvcf): Check the unique values in each column.\n",
    "* [6. Data Type Verification](#6_dtvrf): Ensure each column has the correct data type and convert if necessary.\n",
    "* [7. Data Saving in 'staged'](#7_sdt): Save a new cleaned dataset for the EDA."
   ]
  },
  {
   "cell_type": "code",
   "execution_count": 1,
   "metadata": {},
   "outputs": [],
   "source": [
    "# Imports\n",
    "import pandas as pd\n",
    "import numpy as np\n",
    "import matplotlib.pyplot as plt\n",
    "import seaborn as sns"
   ]
  },
  {
   "cell_type": "markdown",
   "metadata": {},
   "source": [
    "---"
   ]
  },
  {
   "cell_type": "markdown",
   "metadata": {},
   "source": [
    "### **1. Data Ingestion**<a id='1_di'></a>\n",
    "\n",
    "Load the dataset into a Pandas DataFrame"
   ]
  },
  {
   "cell_type": "code",
   "execution_count": 3,
   "metadata": {},
   "outputs": [],
   "source": [
    "# Load the raw dataset\n",
    "file_path = '../data/raw/city_day.csv' \n",
    "df = pd.read_csv(file_path)"
   ]
  },
  {
   "cell_type": "markdown",
   "metadata": {},
   "source": [
    "---"
   ]
  },
  {
   "cell_type": "markdown",
   "metadata": {},
   "source": [
    "### **2. Initial Exploration**<a id='2_ie'></a>\n",
    "\n",
    "Exploring the dataset"
   ]
  },
  {
   "cell_type": "code",
   "execution_count": 4,
   "metadata": {},
   "outputs": [
    {
     "data": {
      "text/html": [
       "<div>\n",
       "<style scoped>\n",
       "    .dataframe tbody tr th:only-of-type {\n",
       "        vertical-align: middle;\n",
       "    }\n",
       "\n",
       "    .dataframe tbody tr th {\n",
       "        vertical-align: top;\n",
       "    }\n",
       "\n",
       "    .dataframe thead th {\n",
       "        text-align: right;\n",
       "    }\n",
       "</style>\n",
       "<table border=\"1\" class=\"dataframe\">\n",
       "  <thead>\n",
       "    <tr style=\"text-align: right;\">\n",
       "      <th></th>\n",
       "      <th>City</th>\n",
       "      <th>Date</th>\n",
       "      <th>PM2.5</th>\n",
       "      <th>PM10</th>\n",
       "      <th>NO</th>\n",
       "      <th>NO2</th>\n",
       "      <th>NOx</th>\n",
       "      <th>NH3</th>\n",
       "      <th>CO</th>\n",
       "      <th>SO2</th>\n",
       "      <th>O3</th>\n",
       "      <th>Benzene</th>\n",
       "      <th>Toluene</th>\n",
       "      <th>Xylene</th>\n",
       "      <th>AQI</th>\n",
       "      <th>AQI_Bucket</th>\n",
       "    </tr>\n",
       "  </thead>\n",
       "  <tbody>\n",
       "    <tr>\n",
       "      <th>0</th>\n",
       "      <td>Ahmedabad</td>\n",
       "      <td>2015-01-01</td>\n",
       "      <td>NaN</td>\n",
       "      <td>NaN</td>\n",
       "      <td>0.92</td>\n",
       "      <td>18.22</td>\n",
       "      <td>17.15</td>\n",
       "      <td>NaN</td>\n",
       "      <td>0.92</td>\n",
       "      <td>27.64</td>\n",
       "      <td>133.36</td>\n",
       "      <td>0.00</td>\n",
       "      <td>0.02</td>\n",
       "      <td>0.00</td>\n",
       "      <td>NaN</td>\n",
       "      <td>NaN</td>\n",
       "    </tr>\n",
       "    <tr>\n",
       "      <th>1</th>\n",
       "      <td>Ahmedabad</td>\n",
       "      <td>2015-01-02</td>\n",
       "      <td>NaN</td>\n",
       "      <td>NaN</td>\n",
       "      <td>0.97</td>\n",
       "      <td>15.69</td>\n",
       "      <td>16.46</td>\n",
       "      <td>NaN</td>\n",
       "      <td>0.97</td>\n",
       "      <td>24.55</td>\n",
       "      <td>34.06</td>\n",
       "      <td>3.68</td>\n",
       "      <td>5.50</td>\n",
       "      <td>3.77</td>\n",
       "      <td>NaN</td>\n",
       "      <td>NaN</td>\n",
       "    </tr>\n",
       "    <tr>\n",
       "      <th>2</th>\n",
       "      <td>Ahmedabad</td>\n",
       "      <td>2015-01-03</td>\n",
       "      <td>NaN</td>\n",
       "      <td>NaN</td>\n",
       "      <td>17.40</td>\n",
       "      <td>19.30</td>\n",
       "      <td>29.70</td>\n",
       "      <td>NaN</td>\n",
       "      <td>17.40</td>\n",
       "      <td>29.07</td>\n",
       "      <td>30.70</td>\n",
       "      <td>6.80</td>\n",
       "      <td>16.40</td>\n",
       "      <td>2.25</td>\n",
       "      <td>NaN</td>\n",
       "      <td>NaN</td>\n",
       "    </tr>\n",
       "    <tr>\n",
       "      <th>3</th>\n",
       "      <td>Ahmedabad</td>\n",
       "      <td>2015-01-04</td>\n",
       "      <td>NaN</td>\n",
       "      <td>NaN</td>\n",
       "      <td>1.70</td>\n",
       "      <td>18.48</td>\n",
       "      <td>17.97</td>\n",
       "      <td>NaN</td>\n",
       "      <td>1.70</td>\n",
       "      <td>18.59</td>\n",
       "      <td>36.08</td>\n",
       "      <td>4.43</td>\n",
       "      <td>10.14</td>\n",
       "      <td>1.00</td>\n",
       "      <td>NaN</td>\n",
       "      <td>NaN</td>\n",
       "    </tr>\n",
       "    <tr>\n",
       "      <th>4</th>\n",
       "      <td>Ahmedabad</td>\n",
       "      <td>2015-01-05</td>\n",
       "      <td>NaN</td>\n",
       "      <td>NaN</td>\n",
       "      <td>22.10</td>\n",
       "      <td>21.42</td>\n",
       "      <td>37.76</td>\n",
       "      <td>NaN</td>\n",
       "      <td>22.10</td>\n",
       "      <td>39.33</td>\n",
       "      <td>39.31</td>\n",
       "      <td>7.01</td>\n",
       "      <td>18.89</td>\n",
       "      <td>2.78</td>\n",
       "      <td>NaN</td>\n",
       "      <td>NaN</td>\n",
       "    </tr>\n",
       "  </tbody>\n",
       "</table>\n",
       "</div>"
      ],
      "text/plain": [
       "        City        Date  PM2.5  PM10     NO    NO2    NOx  NH3     CO    SO2  \\\n",
       "0  Ahmedabad  2015-01-01    NaN   NaN   0.92  18.22  17.15  NaN   0.92  27.64   \n",
       "1  Ahmedabad  2015-01-02    NaN   NaN   0.97  15.69  16.46  NaN   0.97  24.55   \n",
       "2  Ahmedabad  2015-01-03    NaN   NaN  17.40  19.30  29.70  NaN  17.40  29.07   \n",
       "3  Ahmedabad  2015-01-04    NaN   NaN   1.70  18.48  17.97  NaN   1.70  18.59   \n",
       "4  Ahmedabad  2015-01-05    NaN   NaN  22.10  21.42  37.76  NaN  22.10  39.33   \n",
       "\n",
       "       O3  Benzene  Toluene  Xylene  AQI AQI_Bucket  \n",
       "0  133.36     0.00     0.02    0.00  NaN        NaN  \n",
       "1   34.06     3.68     5.50    3.77  NaN        NaN  \n",
       "2   30.70     6.80    16.40    2.25  NaN        NaN  \n",
       "3   36.08     4.43    10.14    1.00  NaN        NaN  \n",
       "4   39.31     7.01    18.89    2.78  NaN        NaN  "
      ]
     },
     "execution_count": 4,
     "metadata": {},
     "output_type": "execute_result"
    }
   ],
   "source": [
    "# Initial data snapshot\n",
    "df.head()"
   ]
  },
  {
   "cell_type": "code",
   "execution_count": 5,
   "metadata": {},
   "outputs": [
    {
     "name": "stdout",
     "output_type": "stream",
     "text": [
      "<class 'pandas.core.frame.DataFrame'>\n",
      "RangeIndex: 29531 entries, 0 to 29530\n",
      "Data columns (total 16 columns):\n",
      " #   Column      Non-Null Count  Dtype  \n",
      "---  ------      --------------  -----  \n",
      " 0   City        29531 non-null  object \n",
      " 1   Date        29531 non-null  object \n",
      " 2   PM2.5       24933 non-null  float64\n",
      " 3   PM10        18391 non-null  float64\n",
      " 4   NO          25949 non-null  float64\n",
      " 5   NO2         25946 non-null  float64\n",
      " 6   NOx         25346 non-null  float64\n",
      " 7   NH3         19203 non-null  float64\n",
      " 8   CO          27472 non-null  float64\n",
      " 9   SO2         25677 non-null  float64\n",
      " 10  O3          25509 non-null  float64\n",
      " 11  Benzene     23908 non-null  float64\n",
      " 12  Toluene     21490 non-null  float64\n",
      " 13  Xylene      11422 non-null  float64\n",
      " 14  AQI         24850 non-null  float64\n",
      " 15  AQI_Bucket  24850 non-null  object \n",
      "dtypes: float64(13), object(3)\n",
      "memory usage: 3.6+ MB\n"
     ]
    }
   ],
   "source": [
    "# Dataset information\n",
    "df.info()"
   ]
  },
  {
   "cell_type": "markdown",
   "metadata": {},
   "source": [
    "Based on the initial inpection of the data and referencing to our [data source](https://cpcb.nic.in/). We can define the columns as follows:"
   ]
  },
  {
   "cell_type": "markdown",
   "metadata": {},
   "source": [
    "| Column      | Description                      | Datatype | Missing Values |\n",
    "|-------------|----------------------------------|----------|----------------|\n",
    "| `City`        | Name of the city                 | object   | 0              |\n",
    "| `Date`        | Date of the observation          | object   | 0              |\n",
    "| `PM2.5`       | Particulate Matter < 2.5 µm      | float64  | 4598           |\n",
    "| `PM10`        | Particulate Matter < 10 µm       | float64  | 11140          |\n",
    "| `NO`          | Nitric Oxide                     | float64  | 3582           |\n",
    "| `NO2`         | Nitrogen Dioxide                 | float64  | 3585           |\n",
    "| `NOx`         | Nitrogen Oxides                  | float64  | 4185           |\n",
    "| `NH3`         | Ammonia                          | float64  | 10328          |\n",
    "| `CO`          | Carbon Monoxide                  | float64  | 2059           |\n",
    "| `SO2`         | Sulfur Dioxide                   | float64  | 3854           |\n",
    "| `O3`          | Ozone                            | float64  | 4022           |\n",
    "| `Benzene`     | Benzene                          | float64  | 5623           |\n",
    "| `Toluene`     | Toluene                          | float64  | 8041           |\n",
    "| `Xylene`      | Xylene                           | float64  | 18109          |\n",
    "| `AQI`         | Air Quality Index                | float64  | 4681           |\n",
    "| `AQI_Bucket`  | Air Quality Category             | object   | 4681           |\n"
   ]
  },
  {
   "cell_type": "markdown",
   "metadata": {},
   "source": [
    "As we can observe, our data has multiple missing values in it, thus we need to handle them appropriately for the next stages. However, before that, let's make sure we drop any duplicated records as a first step."
   ]
  },
  {
   "cell_type": "markdown",
   "metadata": {},
   "source": [
    "---"
   ]
  },
  {
   "cell_type": "markdown",
   "metadata": {},
   "source": [
    "### **3. Handling duplicated records**<a id='3_hdr'></a>\n",
    "\n",
    "In this section we will be dropping any duplicated rows (if any). This is a crucial part for assuring data quality and it is paramount for preventing data leakage when getting into the modeling part of the project."
   ]
  },
  {
   "cell_type": "code",
   "execution_count": 6,
   "metadata": {},
   "outputs": [
    {
     "name": "stdout",
     "output_type": "stream",
     "text": [
      "Number of duplicate records dropped: 0\n"
     ]
    }
   ],
   "source": [
    "# Count the number of duplicate records\n",
    "num_duplicates = df.duplicated().sum()\n",
    "\n",
    "# Drop all duplicate records\n",
    "data_cleaned = df.drop_duplicates()\n",
    "\n",
    "print(f\"Number of duplicate records dropped: {num_duplicates}\")"
   ]
  },
  {
   "cell_type": "markdown",
   "metadata": {},
   "source": [
    "No duplicates!"
   ]
  },
  {
   "cell_type": "markdown",
   "metadata": {},
   "source": [
    "---"
   ]
  },
  {
   "cell_type": "markdown",
   "metadata": {},
   "source": [
    "### **4. Handling missing values**<a id='4_hmv'></a>\n",
    "\n",
    "In this section we will explore the number of missing values on each column and plot a visualization for easier representation of the missing values."
   ]
  },
  {
   "cell_type": "code",
   "execution_count": 7,
   "metadata": {},
   "outputs": [
    {
     "name": "stdout",
     "output_type": "stream",
     "text": [
      "Missing Values per Column:\n",
      "\n",
      "City              0\n",
      "Date              0\n",
      "PM2.5          4598\n",
      "PM10          11140\n",
      "NO             3582\n",
      "NO2            3585\n",
      "NOx            4185\n",
      "NH3           10328\n",
      "CO             2059\n",
      "SO2            3854\n",
      "O3             4022\n",
      "Benzene        5623\n",
      "Toluene        8041\n",
      "Xylene        18109\n",
      "AQI            4681\n",
      "AQI_Bucket     4681\n",
      "dtype: int64\n"
     ]
    }
   ],
   "source": [
    "# Number of missing values\n",
    "missing_values = df.isnull().sum()\n",
    "print(\"Missing Values per Column:\\n\")\n",
    "print(missing_values)"
   ]
  },
  {
   "cell_type": "code",
   "execution_count": 8,
   "metadata": {},
   "outputs": [
    {
     "data": {
      "image/png": "[encoded data removed]",
      "text/plain": [
       "<Figure size 1200x600 with 1 Axes>"
      ]
     },
     "metadata": {},
     "output_type": "display_data"
    }
   ],
   "source": [
    "# Visualizing missing values\n",
    "plt.figure(figsize=(12, 6))\n",
    "sns.heatmap(df.isnull(), cbar=False, cmap='viridis')\n",
    "plt.title('Missing Values Heatmap')\n",
    "plt.show()"
   ]
  },
  {
   "cell_type": "markdown",
   "metadata": {},
   "source": [
    "#### Analysis of Missing Values\n",
    "\n",
    "The dataset contains a significant number of missing values across various columns.\n",
    "\n",
    "1. **Columns with No Missing Values:**\n",
    "   - `City`\n",
    "   - `Date`\n",
    "\n",
    "2. **Columns with Few Missing Values (less than 20%):**\n",
    "   - `NO` (12.1% missing)\n",
    "   - `NO2` (12.1% missing)\n",
    "   - `NOx` (14.2% missing)\n",
    "   - `CO` (7% missing)\n",
    "   - `SO2` (13% missing)\n",
    "   - `O3` (13.6% missing)\n",
    "   - `AQI` (15.9% missing)\n",
    "   - `AQI_Bucket` (15.9% missing)\n",
    "   - `PM2.5` (15.6% missing)\n",
    "\n",
    "3. **Columns with Moderate Missing Values (20% - 40%):**\n",
    "   - `Benzene` (20% missing)\n",
    "   - `PM10` (37.7% missing)\n",
    "   - `NH3` (35% missing)\n",
    "   - `Toluene` (27.2% missing)\n",
    "\n",
    "4. **Columns with High Missing Values (more than 40%):**\n",
    "   - `Xylene` (61.3% missing)"
   ]
  },
  {
   "cell_type": "markdown",
   "metadata": {},
   "source": [
    "#### Handling Strategy (Numerical Columns)\n",
    "   - **Median Imputation:** For numerical columns with few to moderate missing values.\n",
    "   - **Dropping Columns/Rows:** For numerical columns with high missing values, it might be more practical to drop them. This is also supported by the notion of probably getting Xylene readings is quite more complex than any other particle, thus, being able to disregard this column could also be founded on a business logic."
   ]
  },
  {
   "cell_type": "code",
   "execution_count": 9,
   "metadata": {},
   "outputs": [],
   "source": [
    "# Columns categorized by the amount of missing values\n",
    "columns_few_missing = ['NO', 'NO2', 'NOx', 'CO', 'SO2', 'O3', 'AQI', 'PM2.5']\n",
    "columns_moderate_missing = ['Benzene', 'PM10', 'NH3', 'Toluene']\n",
    "columns_high_missing = ['Xylene']"
   ]
  },
  {
   "cell_type": "code",
   "execution_count": 10,
   "metadata": {},
   "outputs": [],
   "source": [
    "# Median imputation for columns with few and moderate missing values\n",
    "for column in columns_few_missing + columns_moderate_missing:\n",
    "    median_value = df[column].median()\n",
    "    df[column].fillna(median_value, inplace=True)"
   ]
  },
  {
   "cell_type": "code",
   "execution_count": 11,
   "metadata": {},
   "outputs": [],
   "source": [
    "# Drop columns with high missing values\n",
    "df = df.drop(columns=columns_high_missing)"
   ]
  },
  {
   "cell_type": "code",
   "execution_count": 12,
   "metadata": {},
   "outputs": [
    {
     "name": "stdout",
     "output_type": "stream",
     "text": [
      "Missing Values per Column After Handling:\n",
      "\n",
      "City             0\n",
      "Date             0\n",
      "PM2.5            0\n",
      "PM10             0\n",
      "NO               0\n",
      "NO2              0\n",
      "NOx              0\n",
      "NH3              0\n",
      "CO               0\n",
      "SO2              0\n",
      "O3               0\n",
      "Benzene          0\n",
      "Toluene          0\n",
      "AQI              0\n",
      "AQI_Bucket    4681\n",
      "dtype: int64\n"
     ]
    }
   ],
   "source": [
    "# Number of missing values after handling\n",
    "missing_values = df.isnull().sum()\n",
    "print(\"Missing Values per Column After Handling:\\n\")\n",
    "print(missing_values)"
   ]
  },
  {
   "cell_type": "markdown",
   "metadata": {},
   "source": [
    "#### Handling Strategy (Categorical Columns)\n",
    "\n",
    "Regarding the AQI_Bucket attribute, which serves as our primary target variable, we'll omit any records with missing values. The absence of sufficient guidance on how to accurately impute these values, coupled with the potential impact on our modeling from arbitrary assumptions, necessitates this decision. Moreover, given that only 15% of records contain null values, the resulting data loss is deemed acceptable.\n",
    "\n",
    "For future projects, alternative strategies could be explored for handling these null values. These may include developing models for imputation, leveraging domain expertise for inference, manual labeling, or enhancing data acquisition methods."
   ]
  },
  {
   "cell_type": "code",
   "execution_count": 13,
   "metadata": {},
   "outputs": [],
   "source": [
    "# Drop rows with missing values on target variable\n",
    "df = df.dropna(axis=0)"
   ]
  },
  {
   "cell_type": "code",
   "execution_count": 14,
   "metadata": {},
   "outputs": [
    {
     "name": "stdout",
     "output_type": "stream",
     "text": [
      "Missing Values per Column After Handling:\n",
      "\n",
      "City          0\n",
      "Date          0\n",
      "PM2.5         0\n",
      "PM10          0\n",
      "NO            0\n",
      "NO2           0\n",
      "NOx           0\n",
      "NH3           0\n",
      "CO            0\n",
      "SO2           0\n",
      "O3            0\n",
      "Benzene       0\n",
      "Toluene       0\n",
      "AQI           0\n",
      "AQI_Bucket    0\n",
      "dtype: int64\n"
     ]
    }
   ],
   "source": [
    "# Number of missing values after handling\n",
    "missing_values = df.isnull().sum()\n",
    "print(\"Missing Values per Column After Handling:\\n\")\n",
    "print(missing_values)"
   ]
  },
  {
   "cell_type": "markdown",
   "metadata": {},
   "source": [
    "---"
   ]
  },
  {
   "cell_type": "markdown",
   "metadata": {},
   "source": [
    "### **5. Unique values in categorical features**<a id='5_euvcf'></a>\n",
    "\n",
    "Now that we have effectively handled the missing values in pur dataset, let's explore the unique values in our categorical features."
   ]
  },
  {
   "cell_type": "code",
   "execution_count": 15,
   "metadata": {},
   "outputs": [
    {
     "name": "stdout",
     "output_type": "stream",
     "text": [
      "Column 'City':\n",
      " ['Ahmedabad' 'Aizawl' 'Amaravati' 'Amritsar' 'Bengaluru' 'Bhopal'\n",
      " 'Brajrajnagar' 'Chandigarh' 'Chennai' 'Coimbatore' 'Delhi' 'Ernakulam'\n",
      " 'Gurugram' 'Guwahati' 'Hyderabad' 'Jaipur' 'Jorapokhar' 'Kochi' 'Kolkata'\n",
      " 'Lucknow' 'Mumbai' 'Patna' 'Shillong' 'Talcher' 'Thiruvananthapuram'\n",
      " 'Visakhapatnam']\n",
      "\n",
      "Column 'Date':\n",
      " ['2015-01-29' '2015-01-30' '2015-01-31' ... '2015-03-07' '2016-06-09'\n",
      " '2016-06-26']\n",
      "\n",
      "Column 'AQI_Bucket':\n",
      " ['Poor' 'Very Poor' 'Severe' 'Moderate' 'Satisfactory' 'Good']\n",
      "\n"
     ]
    }
   ],
   "source": [
    "# Select categorical columns\n",
    "categorical_cols = df.select_dtypes(include=['object', 'category']).columns\n",
    "\n",
    "# Get unique values for each categorical column\n",
    "unique_values = {col: df[col].unique() for col in categorical_cols}\n",
    "\n",
    "# Print unique values in a readable format\n",
    "for col, values in unique_values.items():\n",
    "    print(f\"Column '{col}':\\n {values}\\n\")"
   ]
  },
  {
   "cell_type": "markdown",
   "metadata": {},
   "source": [
    "---"
   ]
  },
  {
   "cell_type": "markdown",
   "metadata": {},
   "source": [
    "### **6. Datatypes verification**<a id='6_dtvrf'></a>\n",
    "\n",
    "Following this observation, our dataset features information from 26 unique cities, with each record having multiple dates and six distinct categories signifying air quality levels. Subsequently, we plan to perform basic transformations on two of these columns to ensure the datatype correctness:\n",
    "\n",
    "1. `Date`: Conversion to a datetime format.\n",
    "2. `AQI_Bucket`: Renaming the column as Air_Quality."
   ]
  },
  {
   "cell_type": "code",
   "execution_count": 16,
   "metadata": {},
   "outputs": [],
   "source": [
    "# Convert the 'Date' column to datetime\n",
    "df['Date'] = pd.to_datetime(df['Date'])\n",
    "\n",
    "# Rename the 'AQI_Bucket' column\n",
    "df.rename(columns={'AQI_Bucket': 'Air_Quality'}, inplace=True)"
   ]
  },
  {
   "cell_type": "markdown",
   "metadata": {},
   "source": [
    "Verification of our dataset"
   ]
  },
  {
   "cell_type": "code",
   "execution_count": 17,
   "metadata": {},
   "outputs": [
    {
     "name": "stdout",
     "output_type": "stream",
     "text": [
      "<class 'pandas.core.frame.DataFrame'>\n",
      "Index: 24850 entries, 28 to 29530\n",
      "Data columns (total 15 columns):\n",
      " #   Column       Non-Null Count  Dtype         \n",
      "---  ------       --------------  -----         \n",
      " 0   City         24850 non-null  object        \n",
      " 1   Date         24850 non-null  datetime64[ns]\n",
      " 2   PM2.5        24850 non-null  float64       \n",
      " 3   PM10         24850 non-null  float64       \n",
      " 4   NO           24850 non-null  float64       \n",
      " 5   NO2          24850 non-null  float64       \n",
      " 6   NOx          24850 non-null  float64       \n",
      " 7   NH3          24850 non-null  float64       \n",
      " 8   CO           24850 non-null  float64       \n",
      " 9   SO2          24850 non-null  float64       \n",
      " 10  O3           24850 non-null  float64       \n",
      " 11  Benzene      24850 non-null  float64       \n",
      " 12  Toluene      24850 non-null  float64       \n",
      " 13  AQI          24850 non-null  float64       \n",
      " 14  Air_Quality  24850 non-null  object        \n",
      "dtypes: datetime64[ns](1), float64(12), object(2)\n",
      "memory usage: 3.0+ MB\n"
     ]
    }
   ],
   "source": [
    "df.info()"
   ]
  },
  {
   "cell_type": "markdown",
   "metadata": {},
   "source": [
    "---"
   ]
  },
  {
   "cell_type": "markdown",
   "metadata": {},
   "source": [
    "### **7. Saving dataset for EDA**<a id='7_sdt'></a>"
   ]
  },
  {
   "cell_type": "code",
   "execution_count": 18,
   "metadata": {},
   "outputs": [
    {
     "name": "stdout",
     "output_type": "stream",
     "text": [
      "Processed dataframe saved to ../data/staged/air_dataset_staged.csv\n"
     ]
    }
   ],
   "source": [
    "# Save the processed dataframe to a CSV file\n",
    "output_file_path = '../data/staged/air_dataset_staged.csv'\n",
    "df.to_csv(output_file_path, index=False)\n",
    "\n",
    "print(f\"Processed dataframe saved to {output_file_path}\")"
   ]
  }
 ],
 "metadata": {
  "kernelspec": {
   "display_name": "python-dsf",
   "language": "python",
   "name": "python3"
  },
  "language_info": {
   "codemirror_mode": {
    "name": "ipython",
    "version": 3
   },
   "file_extension": ".py",
   "mimetype": "text/x-python",
   "name": "python",
   "nbconvert_exporter": "python",
   "pygments_lexer": "ipython3",
   "version": "3.11.4"
  }
 },
 "nbformat": 4,
 "nbformat_minor": 2
}
