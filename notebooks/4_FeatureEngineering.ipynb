{
 "cells": [
  {
   "cell_type": "markdown",
   "metadata": {},
   "source": [
    "# **4 Feature Engineering: Air Quality**\n",
    "\n",
    "In this section, we'll conduct essential data transformations guided by the insights gleaned from our previous step, Exploratory Data Analysis (EDA). Additionally, we'll derive new features from existing ones to enhance our understanding of the dataset. The outcome of this phase will be a refined dataset tailored for our machine learning classification modeling."
   ]
  },
  {
   "cell_type": "markdown",
   "metadata": {},
   "source": [
    "## **Methodology**\n",
    "\n",
    "* [1. Loading Data from Staged](#1_lds)\n",
    "* [2. Encoding Target Variable](#2_etv)\n",
    "* [3. Log Transformation](#3_logt)\n",
    "* [4. Standarize Features](#4_std)\n",
    "* [5. Variance Inflation Factor (VIF)](#5_vif)\n",
    "* [6. Feature Selection and Target](#6_feat)\n",
    "* [7. Resampling Target](#7_res)\n",
    "* [8. Feature Selection with SelectKBest](#8_sel)\n",
    "* [9. Save the Processed Dataset](#9_save)"
   ]
  },
  {
   "cell_type": "code",
   "execution_count": 15,
   "metadata": {},
   "outputs": [],
   "source": [
    "# Imports\n",
    "import pandas as pd\n",
    "import numpy as np\n",
    "from sklearn.preprocessing import LabelEncoder, StandardScaler\n",
    "from sklearn.feature_selection import SelectKBest, f_classif\n",
    "from imblearn.over_sampling import SMOTE\n",
    "from statsmodels.stats.outliers_influence import variance_inflation_factor"
   ]
  },
  {
   "cell_type": "markdown",
   "metadata": {},
   "source": [
    "---"
   ]
  },
  {
   "cell_type": "markdown",
   "metadata": {},
   "source": [
    "### **1. Loading data from staged**<a id='1_lds'></a>"
   ]
  },
  {
   "cell_type": "code",
   "execution_count": 16,
   "metadata": {},
   "outputs": [],
   "source": [
    "# Load the staged dataset\n",
    "file_path = '../data/staged/air_dataset_staged.csv'\n",
    "df = pd.read_csv(file_path)\n",
    "\n",
    "# Convert 'Date' column to datetime\n",
    "df['Date'] = pd.to_datetime(df['Date'])"
   ]
  },
  {
   "cell_type": "markdown",
   "metadata": {},
   "source": [
    "---"
   ]
  },
  {
   "cell_type": "markdown",
   "metadata": {},
   "source": [
    "### **2. Encoding target variable**<a id='2_etv'></a>\n",
    "\n",
    "This step is necessary to have a numerical (non operable) representation of our target variable."
   ]
  },
  {
   "cell_type": "code",
   "execution_count": 17,
   "metadata": {},
   "outputs": [],
   "source": [
    "label_enc = LabelEncoder()\n",
    "df['Air_Quality_Encoded'] = label_enc.fit_transform(df['Air_Quality'])"
   ]
  },
  {
   "cell_type": "markdown",
   "metadata": {},
   "source": [
    "---"
   ]
  },
  {
   "cell_type": "markdown",
   "metadata": {},
   "source": [
    "### **3. Log transformation**<a id='3_logt'></a>\n",
    "\n",
    "This step will be made to reduce the skewness observed in the numerical features."
   ]
  },
  {
   "cell_type": "code",
   "execution_count": 18,
   "metadata": {},
   "outputs": [],
   "source": [
    "# Define the numerical columns\n",
    "numerical_cols = ['PM2.5', 'PM10', 'NO', 'NO2', 'NOx', 'NH3', 'CO', 'SO2', 'O3', 'Benzene', 'Toluene', 'AQI']\n",
    "\n",
    "# Log Transformation to reduce skewness\n",
    "df[numerical_cols] = df[numerical_cols].apply(lambda x: np.log1p(x))"
   ]
  },
  {
   "cell_type": "markdown",
   "metadata": {},
   "source": [
    "---"
   ]
  },
  {
   "cell_type": "markdown",
   "metadata": {},
   "source": [
    "### **4. Standarize features**<a id='4_std'></a>\n",
    "\n",
    "Having the numerical features to have a mean of 0 and a standard deviation of 1 will help us ensuring all features contribute equally during the classification task."
   ]
  },
  {
   "cell_type": "code",
   "execution_count": 19,
   "metadata": {},
   "outputs": [],
   "source": [
    "# Standardize the features\n",
    "scaler = StandardScaler()\n",
    "X_scaled = scaler.fit_transform(df[numerical_cols])"
   ]
  },
  {
   "cell_type": "markdown",
   "metadata": {},
   "source": [
    "---"
   ]
  },
  {
   "cell_type": "markdown",
   "metadata": {},
   "source": [
    "### **5. Variance Inflation Factor (VIF)**<a id='5_vif'></a>\n",
    "\n",
    "This step of calculating the VIF is mainly to identify multicollinearity among features so later we can remove features with VIF > 10. The final goal is to reduce multicollinearity and recalculates VIF."
   ]
  },
  {
   "cell_type": "code",
   "execution_count": 20,
   "metadata": {},
   "outputs": [
    {
     "name": "stdout",
     "output_type": "stream",
     "text": [
      "VIF before reduction:\n",
      "    Feature       VIF\n",
      "0     PM2.5  3.948656\n",
      "1      PM10  2.242072\n",
      "2        NO  2.375015\n",
      "3       NO2  1.987779\n",
      "4       NOx  2.184968\n",
      "5       NH3  1.261571\n",
      "6        CO  2.167666\n",
      "7       SO2  1.399587\n",
      "8        O3  1.350048\n",
      "9   Benzene  1.896216\n",
      "10  Toluene  2.236061\n",
      "11      AQI  5.939448\n"
     ]
    }
   ],
   "source": [
    "# Calculate VIF to handle multicollinearity\n",
    "vif_data = pd.DataFrame()\n",
    "vif_data['Feature'] = numerical_cols\n",
    "vif_data['VIF'] = [variance_inflation_factor(X_scaled, i) for i in range(len(numerical_cols))]\n",
    "print(\"VIF before reduction:\")\n",
    "print(vif_data)"
   ]
  },
  {
   "cell_type": "code",
   "execution_count": 21,
   "metadata": {},
   "outputs": [],
   "source": [
    "# Handle high VIF values (if any)\n",
    "high_vif_features = vif_data[vif_data['VIF'] > 10]['Feature'].tolist()\n",
    "X_reduced = df[numerical_cols].drop(columns=high_vif_features)"
   ]
  },
  {
   "cell_type": "code",
   "execution_count": 22,
   "metadata": {},
   "outputs": [
    {
     "name": "stdout",
     "output_type": "stream",
     "text": [
      "VIF after reduction:\n",
      "    Feature       VIF\n",
      "0     PM2.5  3.948656\n",
      "1      PM10  2.242072\n",
      "2        NO  2.375015\n",
      "3       NO2  1.987779\n",
      "4       NOx  2.184968\n",
      "5       NH3  1.261571\n",
      "6        CO  2.167666\n",
      "7       SO2  1.399587\n",
      "8        O3  1.350048\n",
      "9   Benzene  1.896216\n",
      "10  Toluene  2.236061\n",
      "11      AQI  5.939448\n"
     ]
    }
   ],
   "source": [
    "# Recalculate VIF for the reduced set of features\n",
    "X_reduced_scaled = scaler.fit_transform(X_reduced)\n",
    "vif_data_reduced = pd.DataFrame()\n",
    "vif_data_reduced['Feature'] = X_reduced.columns\n",
    "vif_data_reduced['VIF'] = [variance_inflation_factor(X_reduced_scaled, i) for i in range(X_reduced.shape[1])]\n",
    "print(\"VIF after reduction:\")\n",
    "print(vif_data_reduced)"
   ]
  },
  {
   "cell_type": "markdown",
   "metadata": {},
   "source": [
    "---"
   ]
  },
  {
   "cell_type": "markdown",
   "metadata": {},
   "source": [
    "### **6. Feature Selection and Target**<a id='6_feat'></a>\n",
    "\n",
    "In this step we will select our features and target for the modeling"
   ]
  },
  {
   "cell_type": "code",
   "execution_count": 23,
   "metadata": {},
   "outputs": [],
   "source": [
    "# Define features and target\n",
    "X = df.drop(columns=['City', 'Air_Quality', 'Date', 'Air_Quality_Encoded'] + high_vif_features)\n",
    "y = df['Air_Quality_Encoded']"
   ]
  },
  {
   "cell_type": "markdown",
   "metadata": {},
   "source": [
    "---"
   ]
  },
  {
   "cell_type": "markdown",
   "metadata": {},
   "source": [
    "### **7. Resample target**<a id='7_res'></a>\n",
    "\n",
    "In this step, we will use SMOTE to generate synthetic samples for minority classes to balance the dataset"
   ]
  },
  {
   "cell_type": "code",
   "execution_count": 24,
   "metadata": {},
   "outputs": [],
   "source": [
    "# Resampling to handle class imbalance\n",
    "smote = SMOTE(random_state=42)\n",
    "X_resampled, y_resampled = smote.fit_resample(X, y)"
   ]
  },
  {
   "cell_type": "markdown",
   "metadata": {},
   "source": [
    "---"
   ]
  },
  {
   "cell_type": "markdown",
   "metadata": {},
   "source": [
    "### **8. Feature selection**<a id='8_sel'></a>\n",
    "\n",
    "In this step, we will use SelectKBest to select the most relevant features based on ANOVA F-test."
   ]
  },
  {
   "cell_type": "code",
   "execution_count": 25,
   "metadata": {},
   "outputs": [],
   "source": [
    "# Feature selection using SelectKBest\n",
    "selector = SelectKBest(score_func=f_classif, k='all')\n",
    "X_selected = selector.fit_transform(X_resampled, y_resampled)"
   ]
  },
  {
   "cell_type": "markdown",
   "metadata": {},
   "source": [
    "---"
   ]
  },
  {
   "cell_type": "markdown",
   "metadata": {},
   "source": [
    "### **9. Saving the processed dataset**<a id='9_save'></a>"
   ]
  },
  {
   "cell_type": "code",
   "execution_count": 26,
   "metadata": {},
   "outputs": [],
   "source": [
    "# Rebuild the output dataset\n",
    "selected_feature_names = [numerical_cols[i] for i in selector.get_support(indices=True)] # Get the selected feature names\n",
    "processed_df = pd.DataFrame(X_selected, columns=selected_feature_names)\n",
    "processed_df['Air_Quality'] = y_resampled"
   ]
  },
  {
   "cell_type": "code",
   "execution_count": 27,
   "metadata": {},
   "outputs": [
    {
     "name": "stdout",
     "output_type": "stream",
     "text": [
      "Processed dataframe saved to ../data/processed/processed_air_quality_data.csv\n"
     ]
    }
   ],
   "source": [
    "# Save the dataset for modeling\n",
    "output_file_path = '../data/processed/processed_air_quality_data.csv'\n",
    "processed_df.to_csv(output_file_path, index=False)\n",
    "print(f\"Processed dataframe saved to {output_file_path}\")"
   ]
  }
 ],
 "metadata": {
  "kernelspec": {
   "display_name": "python-dsf",
   "language": "python",
   "name": "python3"
  },
  "language_info": {
   "codemirror_mode": {
    "name": "ipython",
    "version": 3
   },
   "file_extension": ".py",
   "mimetype": "text/x-python",
   "name": "python",
   "nbconvert_exporter": "python",
   "pygments_lexer": "ipython3",
   "version": "3.11.4"
  }
 },
 "nbformat": 4,
 "nbformat_minor": 2
}
