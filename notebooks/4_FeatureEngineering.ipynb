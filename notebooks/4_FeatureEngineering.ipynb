{
 "cells": [
  {
   "cell_type": "markdown",
   "metadata": {},
   "source": [
    "# **4 Feature Engineering: Air Quality**\n",
    "\n",
    "In this section, we'll conduct essential data transformations guided by the insights gleaned from our previous step, Exploratory Data Analysis (EDA). Additionally, we'll derive new features from existing ones to enhance our understanding of the dataset. The outcome of this phase will be a refined dataset tailored for our machine learning classification modeling."
   ]
  },
  {
   "cell_type": "markdown",
   "metadata": {},
   "source": [
    "## **Methodology**\n",
    "\n",
    "* [1. Loading Data from Staged](#1_lds)\n",
    "* [2. Encoding Target Variable](#2_etv)\n",
    "* [3. Log Transformation](#3_logt)\n",
    "* [4. Standarize Features](#4_std)\n",
    "* [5. Variance Inflation Factor (VIF)](#5_vif)\n",
    "* [6. Feature Selection and Target](#6_feat)\n",
    "* [7. Resampling Target](#7_res)\n",
    "* [8. Feature Selection with SelectKBest](#8_sel)\n",
    "* [9. Save the Processed Dataset](#9_save)"
   ]
  },
  {
   "cell_type": "code",
   "execution_count": 1,
   "metadata": {},
   "outputs": [],
   "source": [
    "# Imports\n",
    "import pandas as pd\n",
    "import numpy as np\n",
    "from sklearn.preprocessing import LabelEncoder, StandardScaler\n",
    "from sklearn.feature_selection import SelectKBest, f_classif\n",
    "from imblearn.over_sampling import SMOTE\n",
    "from statsmodels.stats.outliers_influence import variance_inflation_factor"
   ]
  },
  {
   "cell_type": "markdown",
   "metadata": {},
   "source": [
    "---"
   ]
  },
  {
   "cell_type": "markdown",
   "metadata": {},
   "source": [
    "### **1. Loading data from staged**<a id='1_lds'></a>"
   ]
  },
  {
   "cell_type": "code",
   "execution_count": 2,
   "metadata": {},
   "outputs": [],
   "source": [
    "# Load the staged dataset\n",
    "file_path = '../data/staged/air_dataset_staged.csv'\n",
    "df = pd.read_csv(file_path)\n",
    "\n",
    "# Convert 'Date' column to datetime\n",
    "df['Date'] = pd.to_datetime(df['Date'])"
   ]
  },
  {
   "cell_type": "markdown",
   "metadata": {},
   "source": [
    "---"
   ]
  },
  {
   "cell_type": "markdown",
   "metadata": {},
   "source": [
    "### **2. Encoding target variable**<a id='2_etv'></a>\n",
    "\n",
    "This step is necessary to have a numerical (non operable) representation of our target variable."
   ]
  },
  {
   "cell_type": "code",
   "execution_count": 3,
   "metadata": {},
   "outputs": [],
   "source": [
    "label_enc = LabelEncoder()\n",
    "df['Air_Quality_Encoded'] = label_enc.fit_transform(df['Air_Quality'])"
   ]
  },
  {
   "cell_type": "markdown",
   "metadata": {},
   "source": [
    "---"
   ]
  },
  {
   "cell_type": "markdown",
   "metadata": {},
   "source": [
    "### **3. Log transformation**<a id='3_logt'></a>\n",
    "\n",
    "This step will be made to reduce the skewness observed in the numerical features."
   ]
  },
  {
   "cell_type": "code",
   "execution_count": 4,
   "metadata": {},
   "outputs": [],
   "source": [
    "# Define the numerical columns\n",
    "numerical_cols = ['PM2.5', 'PM10', 'NO', 'NO2', 'NOx', 'NH3', 'CO', 'SO2', 'O3', 'Benzene', 'Toluene', 'AQI']\n",
    "\n",
    "# Log Transformation to reduce skewness\n",
    "df[numerical_cols] = df[numerical_cols].apply(lambda x: np.log1p(x))"
   ]
  },
  {
   "cell_type": "markdown",
   "metadata": {},
   "source": [
    "---"
   ]
  },
  {
   "cell_type": "markdown",
   "metadata": {},
   "source": [
    "### **4. Standarize features**<a id='4_std'></a>\n",
    "\n",
    "Having the numerical features to have a mean of 0 and a standard deviation of 1 will help us ensuring all features contribute equally during the classification task."
   ]
  },
  {
   "cell_type": "code",
   "execution_count": 5,
   "metadata": {},
   "outputs": [],
   "source": [
    "# Standardize the features\n",
    "scaler = StandardScaler()\n",
    "X_scaled = scaler.fit_transform(df[numerical_cols])"
   ]
  },
  {
   "cell_type": "markdown",
   "metadata": {},
   "source": [
    "---"
   ]
  },
  {
   "cell_type": "markdown",
   "metadata": {},
   "source": [
    "### **5. Variance Inflation Factor (VIF)**<a id='5_vif'></a>\n",
    "\n",
    "This step of calculating the VIF is mainly to identify multicollinearity among features so later we can remove features with VIF > 10. The final goal is to reduce multicollinearity and recalculates VIF."
   ]
  },
  {
   "cell_type": "code",
   "execution_count": 6,
   "metadata": {},
   "outputs": [
    {
     "name": "stdout",
     "output_type": "stream",
     "text": [
      "VIF before reduction:\n",
      "    Feature       VIF\n",
      "0     PM2.5  3.948656\n",
      "1      PM10  2.242072\n",
      "2        NO  2.375015\n",
      "3       NO2  1.987779\n",
      "4       NOx  2.184968\n",
      "5       NH3  1.261571\n",
      "6        CO  2.167666\n",
      "7       SO2  1.399587\n",
      "8        O3  1.350048\n",
      "9   Benzene  1.896216\n",
      "10  Toluene  2.236061\n",
      "11      AQI  5.939448\n"
     ]
    }
   ],
   "source": [
    "# Calculate VIF to handle multicollinearity\n",
    "vif_data = pd.DataFrame()\n",
    "vif_data['Feature'] = numerical_cols\n",
    "vif_data['VIF'] = [variance_inflation_factor(X_scaled, i) for i in range(len(numerical_cols))]\n",
    "print(\"VIF before reduction:\")\n",
    "print(vif_data)"
   ]
  },
  {
   "cell_type": "code",
   "execution_count": 7,
   "metadata": {},
   "outputs": [],
   "source": [
    "# Handle high VIF values (if any)\n",
    "high_vif_features = vif_data[vif_data['VIF'] > 10]['Feature'].tolist()\n",
    "X_reduced = df[numerical_cols].drop(columns=high_vif_features)"
   ]
  },
  {
   "cell_type": "code",
   "execution_count": 8,
   "metadata": {},
   "outputs": [
    {
     "name": "stdout",
     "output_type": "stream",
     "text": [
      "VIF after reduction:\n",
      "    Feature       VIF\n",
      "0     PM2.5  3.948656\n",
      "1      PM10  2.242072\n",
      "2        NO  2.375015\n",
      "3       NO2  1.987779\n",
      "4       NOx  2.184968\n",
      "5       NH3  1.261571\n",
      "6        CO  2.167666\n",
      "7       SO2  1.399587\n",
      "8        O3  1.350048\n",
      "9   Benzene  1.896216\n",
      "10  Toluene  2.236061\n",
      "11      AQI  5.939448\n"
     ]
    }
   ],
   "source": [
    "# Recalculate VIF for the reduced set of features\n",
    "X_reduced_scaled = scaler.fit_transform(X_reduced)\n",
    "vif_data_reduced = pd.DataFrame()\n",
    "vif_data_reduced['Feature'] = X_reduced.columns\n",
    "vif_data_reduced['VIF'] = [variance_inflation_factor(X_reduced_scaled, i) for i in range(X_reduced.shape[1])]\n",
    "print(\"VIF after reduction:\")\n",
    "print(vif_data_reduced)"
   ]
  },
  {
   "cell_type": "markdown",
   "metadata": {},
   "source": [
    "---"
   ]
  },
  {
   "cell_type": "markdown",
   "metadata": {},
   "source": [
    "### **6. Feature Selection and Target**<a id='6_feat'></a>\n",
    "\n",
    "In this step we will select our features and target for the modeling"
   ]
  },
  {
   "cell_type": "code",
   "execution_count": 9,
   "metadata": {},
   "outputs": [],
   "source": [
    "# Define features and target\n",
    "X = df.drop(columns=['City', 'Air_Quality', 'Date', 'Air_Quality_Encoded'] + high_vif_features)\n",
    "y = df['Air_Quality_Encoded']"
   ]
  },
  {
   "cell_type": "markdown",
   "metadata": {},
   "source": [
    "---"
   ]
  },
  {
   "cell_type": "markdown",
   "metadata": {},
   "source": [
    "### **7. Resample target**<a id='7_res'></a>\n",
    "\n",
    "In this step, we will use SMOTE to generate synthetic samples for minority classes to balance the dataset"
   ]
  },
  {
   "cell_type": "code",
   "execution_count": 10,
   "metadata": {},
   "outputs": [],
   "source": [
    "# Resampling to handle class imbalance\n",
    "smote = SMOTE(random_state=42)\n",
    "X_resampled, y_resampled = smote.fit_resample(X, y)"
   ]
  },
  {
   "cell_type": "markdown",
   "metadata": {},
   "source": [
    "---"
   ]
  },
  {
   "cell_type": "markdown",
   "metadata": {},
   "source": [
    "### **8. Feature selection**<a id='8_sel'></a>\n",
    "\n",
    "In this step, we will use SelectKBest to select the most relevant features based on ANOVA F-test."
   ]
  },
  {
   "cell_type": "code",
   "execution_count": 11,
   "metadata": {},
   "outputs": [],
   "source": [
    "# Feature selection using SelectKBest\n",
    "selector = SelectKBest(score_func=f_classif, k='all')\n",
    "X_selected = selector.fit_transform(X_resampled, y_resampled)"
   ]
  },
  {
   "cell_type": "markdown",
   "metadata": {},
   "source": [
    "---"
   ]
  },
  {
   "cell_type": "markdown",
   "metadata": {},
   "source": [
    "### **9. Saving the processed dataset**<a id='9_save'></a>"
   ]
  },
  {
   "cell_type": "code",
   "execution_count": 12,
   "metadata": {},
   "outputs": [],
   "source": [
    "# Rebuilt the output dataset\n",
    "selected_feature_names = [numerical_cols[i] for i in selector.get_support(indices=True)] # Get the selected feature names\n",
    "processed_df = pd.DataFrame(X_selected, columns=selected_feature_names)\n",
    "processed_df['Air_Quality'] = y_resampled"
   ]
  },
  {
   "cell_type": "code",
   "execution_count": 13,
   "metadata": {},
   "outputs": [
    {
     "name": "stdout",
     "output_type": "stream",
     "text": [
      "Processed dataframe saved to ../data/processed/processed_air_quality_data.csv\n"
     ]
    }
   ],
   "source": [
    "# Save the dataset for modeling\n",
    "output_file_path = '../data/processed/processed_air_quality_data.csv'\n",
    "processed_df.to_csv(output_file_path, index=False)\n",
    "print(f\"Processed dataframe saved to {output_file_path}\")"
   ]
  },
  {
   "cell_type": "code",
   "execution_count": 14,
   "metadata": {},
   "outputs": [
    {
     "data": {
      "text/html": [
       "<div>\n",
       "<style scoped>\n",
       "    .dataframe tbody tr th:only-of-type {\n",
       "        vertical-align: middle;\n",
       "    }\n",
       "\n",
       "    .dataframe tbody tr th {\n",
       "        vertical-align: top;\n",
       "    }\n",
       "\n",
       "    .dataframe thead th {\n",
       "        text-align: right;\n",
       "    }\n",
       "</style>\n",
       "<table border=\"1\" class=\"dataframe\">\n",
       "  <thead>\n",
       "    <tr style=\"text-align: right;\">\n",
       "      <th></th>\n",
       "      <th>PM2.5</th>\n",
       "      <th>PM10</th>\n",
       "      <th>NO</th>\n",
       "      <th>NO2</th>\n",
       "      <th>NOx</th>\n",
       "      <th>NH3</th>\n",
       "      <th>CO</th>\n",
       "      <th>SO2</th>\n",
       "      <th>O3</th>\n",
       "      <th>Benzene</th>\n",
       "      <th>Toluene</th>\n",
       "      <th>AQI</th>\n",
       "      <th>Air_Quality</th>\n",
       "    </tr>\n",
       "  </thead>\n",
       "  <tbody>\n",
       "    <tr>\n",
       "      <th>0</th>\n",
       "      <td>4.432363</td>\n",
       "      <td>4.571407</td>\n",
       "      <td>2.070653</td>\n",
       "      <td>3.391484</td>\n",
       "      <td>3.547316</td>\n",
       "      <td>2.824351</td>\n",
       "      <td>2.070653</td>\n",
       "      <td>3.922369</td>\n",
       "      <td>4.106932</td>\n",
       "      <td>0.019803</td>\n",
       "      <td>0.000000</td>\n",
       "      <td>5.347108</td>\n",
       "      <td>2</td>\n",
       "    </tr>\n",
       "    <tr>\n",
       "      <th>1</th>\n",
       "      <td>4.392472</td>\n",
       "      <td>4.571407</td>\n",
       "      <td>2.698000</td>\n",
       "      <td>3.390473</td>\n",
       "      <td>3.739573</td>\n",
       "      <td>2.824351</td>\n",
       "      <td>2.698000</td>\n",
       "      <td>3.901771</td>\n",
       "      <td>4.585682</td>\n",
       "      <td>0.039221</td>\n",
       "      <td>0.000000</td>\n",
       "      <td>5.796058</td>\n",
       "      <td>5</td>\n",
       "    </tr>\n",
       "    <tr>\n",
       "      <th>2</th>\n",
       "      <td>4.559336</td>\n",
       "      <td>4.571407</td>\n",
       "      <td>3.234355</td>\n",
       "      <td>3.516310</td>\n",
       "      <td>3.981736</td>\n",
       "      <td>2.824351</td>\n",
       "      <td>3.234355</td>\n",
       "      <td>4.225227</td>\n",
       "      <td>4.721441</td>\n",
       "      <td>0.215111</td>\n",
       "      <td>0.009950</td>\n",
       "      <td>6.244167</td>\n",
       "      <td>4</td>\n",
       "    </tr>\n",
       "    <tr>\n",
       "      <th>3</th>\n",
       "      <td>4.919908</td>\n",
       "      <td>4.571407</td>\n",
       "      <td>3.795040</td>\n",
       "      <td>3.763059</td>\n",
       "      <td>4.449335</td>\n",
       "      <td>2.824351</td>\n",
       "      <td>3.795040</td>\n",
       "      <td>4.333755</td>\n",
       "      <td>4.641502</td>\n",
       "      <td>0.336472</td>\n",
       "      <td>0.039221</td>\n",
       "      <td>6.663133</td>\n",
       "      <td>4</td>\n",
       "    </tr>\n",
       "    <tr>\n",
       "      <th>4</th>\n",
       "      <td>5.189228</td>\n",
       "      <td>4.571407</td>\n",
       "      <td>4.017464</td>\n",
       "      <td>3.592093</td>\n",
       "      <td>4.301359</td>\n",
       "      <td>2.824351</td>\n",
       "      <td>4.017464</td>\n",
       "      <td>4.026066</td>\n",
       "      <td>4.685644</td>\n",
       "      <td>0.378436</td>\n",
       "      <td>0.058269</td>\n",
       "      <td>6.818924</td>\n",
       "      <td>4</td>\n",
       "    </tr>\n",
       "  </tbody>\n",
       "</table>\n",
       "</div>"
      ],
      "text/plain": [
       "      PM2.5      PM10        NO       NO2       NOx       NH3        CO  \\\n",
       "0  4.432363  4.571407  2.070653  3.391484  3.547316  2.824351  2.070653   \n",
       "1  4.392472  4.571407  2.698000  3.390473  3.739573  2.824351  2.698000   \n",
       "2  4.559336  4.571407  3.234355  3.516310  3.981736  2.824351  3.234355   \n",
       "3  4.919908  4.571407  3.795040  3.763059  4.449335  2.824351  3.795040   \n",
       "4  5.189228  4.571407  4.017464  3.592093  4.301359  2.824351  4.017464   \n",
       "\n",
       "        SO2        O3   Benzene   Toluene       AQI  Air_Quality  \n",
       "0  3.922369  4.106932  0.019803  0.000000  5.347108            2  \n",
       "1  3.901771  4.585682  0.039221  0.000000  5.796058            5  \n",
       "2  4.225227  4.721441  0.215111  0.009950  6.244167            4  \n",
       "3  4.333755  4.641502  0.336472  0.039221  6.663133            4  \n",
       "4  4.026066  4.685644  0.378436  0.058269  6.818924            4  "
      ]
     },
     "execution_count": 14,
     "metadata": {},
     "output_type": "execute_result"
    }
   ],
   "source": [
    "processed_df.head()"
   ]
  },
  {
   "cell_type": "code",
   "execution_count": null,
   "metadata": {},
   "outputs": [],
   "source": []
  }
 ],
 "metadata": {
  "kernelspec": {
   "display_name": "python-dsf",
   "language": "python",
   "name": "python3"
  },
  "language_info": {
   "codemirror_mode": {
    "name": "ipython",
    "version": 3
   },
   "file_extension": ".py",
   "mimetype": "text/x-python",
   "name": "python",
   "nbconvert_exporter": "python",
   "pygments_lexer": "ipython3",
   "version": "3.11.4"
  }
 },
 "nbformat": 4,
 "nbformat_minor": 2
}
